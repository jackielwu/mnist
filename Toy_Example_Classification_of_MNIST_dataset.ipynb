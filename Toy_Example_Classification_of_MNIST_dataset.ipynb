{
 "cells": [
  {
   "cell_type": "markdown",
   "metadata": {
    "colab_type": "text",
    "id": "7mdw1hH3ggnl"
   },
   "source": [
    "# Classifying MNIST dataset\n",
    "\n",
    "\n",
    "\n",
    "MNIST database is a good example of handwritten digits, has a training set of 60,000 examples, and a test set of 10,000 examples. The digits have been size-normalized and centered in a fixed-size image.\n",
    "\n",
    "The MNIST dataset & more information about it is at: http://yann.lecun.com/exdb/mnist/. It consists of the following four parts:\n",
    "* Training set images: train-images-idx3-ubyte.gz\n",
    "* Training set labels: train-labels-idx1-ubyte.gz\n",
    "* Test set images: t10k-images-idx3-ubyte.gz\n",
    "* Test set labels: t10k-labels-idx1-ubyte.gz\n",
    "\n",
    "\n",
    "\n",
    "### Build a Two layer neural network classifier\n",
    "\n",
    "\n",
    "### Questions: \n",
    "What train/validation split did you use ? \n",
    "What was the accuracy ?\n",
    "What can you do to improve it ?"
   ]
  },
  {
   "cell_type": "markdown",
   "metadata": {
    "colab_type": "text",
    "id": "1DDzin00h3w-"
   },
   "source": [
    "### Downloading and loading training data\n",
    "1. Download using curl or whatever you like\n",
    "2. Unzip it\n",
    "3. load using machine learning extension package (mlxtend)"
   ]
  },
  {
   "cell_type": "code",
   "execution_count": 5,
   "metadata": {
    "colab": {
     "base_uri": "https://localhost:8080/",
     "height": 121
    },
    "colab_type": "code",
    "id": "ZdxNiJt2F_9K",
    "outputId": "c3822e40-3dab-4b6a-a00f-c6c37ff9129a"
   },
   "outputs": [],
   "source": [
    "#!curl -O http://yann.lecun.com/exdb/mnist/train-images-idx3-ubyte.gz\n",
    "#!curl -O http://yann.lecun.com/exdb/mnist/train-labels-idx1-ubyte.gz\n",
    "#!gunzip t*-ubyte.gz\n",
    "\n",
    "\n",
    "from mlxtend.data import loadlocal_mnist\n",
    "X, y = loadlocal_mnist(\n",
    "        images_path='train-images.idx3-ubyte', \n",
    "        labels_path='train-labels.idx1-ubyte')\n",
    "\n",
    "\n",
    "\n",
    "\n"
   ]
  },
  {
   "cell_type": "markdown",
   "metadata": {
    "colab_type": "text",
    "id": "OKr31CUblxX4"
   },
   "source": [
    "### Explore what's in the data\n"
   ]
  },
  {
   "cell_type": "markdown",
   "metadata": {
    "colab_type": "text",
    "id": "gCnltbPYgfsp"
   },
   "source": []
  },
  {
   "cell_type": "code",
   "execution_count": 7,
   "metadata": {
    "colab": {
     "base_uri": "https://localhost:8080/",
     "height": 304
    },
    "colab_type": "code",
    "id": "nqp88g48GB8K",
    "outputId": "f48bb457-d287-491e-99db-fee600901f75"
   },
   "outputs": [
    {
     "name": "stdout",
     "output_type": "stream",
     "text": [
      "Dimensions: 60000 x 784\n"
     ]
    },
    {
     "data": {
      "image/png": "[encoded data removed]",
      "text/plain": [
       "<Figure size 432x288 with 1 Axes>"
      ]
     },
     "metadata": {
      "needs_background": "light"
     },
     "output_type": "display_data"
    },
    {
     "name": "stdout",
     "output_type": "stream",
     "text": [
      "5\n"
     ]
    }
   ],
   "source": [
    "import numpy as np\n",
    "import matplotlib.pyplot as plt\n",
    "\n",
    "#X contains image \n",
    "print('Dimensions: %s x %s' % (X.shape[0], X.shape[1]))\n",
    "#print('\\n1st row', X[0])\n",
    "first_image = np.array(X[0], dtype='float')\n",
    "pixels = first_image.reshape((28, 28))\n",
    "plt.imshow(pixels, cmap='gray')\n",
    "plt.show()\n",
    "\n",
    "#y contains labels\n",
    "print(y[0])"
   ]
  },
  {
   "cell_type": "code",
   "execution_count": null,
   "metadata": {},
   "outputs": [],
   "source": []
  }
 ],
 "metadata": {
  "accelerator": "TPU",
  "colab": {
   "name": "Toy Example - Classification of MNIST dataset",
   "provenance": []
  },
  "kernelspec": {
   "display_name": "Python 3",
   "language": "python",
   "name": "python3"
  },
  "language_info": {
   "codemirror_mode": {
    "name": "ipython",
    "version": 3
   },
   "file_extension": ".py",
   "mimetype": "text/x-python",
   "name": "python",
   "nbconvert_exporter": "python",
   "pygments_lexer": "ipython3",
   "version": "3.7.4"
  }
 },
 "nbformat": 4,
 "nbformat_minor": 1
}
