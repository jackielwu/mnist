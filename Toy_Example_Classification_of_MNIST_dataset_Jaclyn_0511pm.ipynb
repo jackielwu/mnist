{
 "cells": [
  {
   "cell_type": "markdown",
   "metadata": {
    "colab_type": "text",
    "id": "7mdw1hH3ggnl"
   },
   "source": [
    "# Classifying MNIST dataset\n",
    "\n",
    "\n",
    "\n",
    "MNIST database is a good example of handwritten digits, has a training set of 60,000 examples, and a test set of 10,000 examples. The digits have been size-normalized and centered in a fixed-size image.\n",
    "\n",
    "The MNIST dataset & more information about it is at: http://yann.lecun.com/exdb/mnist/. It consists of the following four parts:\n",
    "* Training set images: train-images-idx3-ubyte.gz\n",
    "* Training set labels: train-labels-idx1-ubyte.gz\n",
    "* Test set images: t10k-images-idx3-ubyte.gz\n",
    "* Test set labels: t10k-labels-idx1-ubyte.gz\n",
    "\n",
    "\n",
    "\n",
    "### Build a Two layer neural network classifier\n",
    "\n",
    "\n",
    "### Questions: \n",
    "What train/validation split did you use ? \n",
    "What was the accuracy ?\n",
    "What can you do to improve it ?"
   ]
  },
  {
   "cell_type": "markdown",
   "metadata": {
    "colab_type": "text",
    "id": "1DDzin00h3w-"
   },
   "source": [
    "### Downloading and loading training data\n",
    "1. Download using curl or whatever you like\n",
    "2. Unzip it\n",
    "3. load using machine learning extension package (mlxtend)"
   ]
  },
  {
   "cell_type": "code",
   "execution_count": 1,
   "metadata": {
    "colab": {
     "base_uri": "https://localhost:8080/",
     "height": 121
    },
    "colab_type": "code",
    "id": "ZdxNiJt2F_9K",
    "outputId": "c3822e40-3dab-4b6a-a00f-c6c37ff9129a"
   },
   "outputs": [],
   "source": [
    "#!curl -O http://yann.lecun.com/exdb/mnist/train-images.idx3-ubyte.gz\n",
    "#!curl -O http://yann.lecun.com/exdb/mnist/train-labels.idx1-ubyte.gz\n",
    "#!gunzip t*-ubyte.gz -f\n",
    "\n",
    "\n",
    "from mlxtend.data import loadlocal_mnist\n",
    "X, y = loadlocal_mnist(\n",
    "        images_path='train-images.idx3-ubyte', \n",
    "        labels_path='train-labels.idx1-ubyte')"
   ]
  },
  {
   "cell_type": "markdown",
   "metadata": {
    "colab_type": "text",
    "id": "OKr31CUblxX4"
   },
   "source": [
    "### Explore what's in the data\n"
   ]
  },
  {
   "cell_type": "markdown",
   "metadata": {
    "colab_type": "text",
    "id": "gCnltbPYgfsp"
   },
   "source": []
  },
  {
   "cell_type": "code",
   "execution_count": 2,
   "metadata": {
    "colab": {
     "base_uri": "https://localhost:8080/",
     "height": 304
    },
    "colab_type": "code",
    "id": "nqp88g48GB8K",
    "outputId": "f48bb457-d287-491e-99db-fee600901f75"
   },
   "outputs": [
    {
     "name": "stdout",
     "output_type": "stream",
     "text": [
      "Dimensions: 60000 x 784\n"
     ]
    },
    {
     "data": {
      "text/plain": [
       "<Figure size 640x480 with 1 Axes>"
      ]
     },
     "metadata": {},
     "output_type": "display_data"
    },
    {
     "name": "stdout",
     "output_type": "stream",
     "text": [
      "5\n"
     ]
    }
   ],
   "source": [
    "import numpy as np\n",
    "import matplotlib.pyplot as plt\n",
    "\n",
    "\n",
    "# PyTorch libraries and modules\n",
    "import torch\n",
    "from torch.autograd import Variable\n",
    "from torch.nn import Linear, ReLU, CrossEntropyLoss, Sequential, Conv2d, MaxPool2d, Module, Softmax, BatchNorm2d, Dropout\n",
    "from torch.optim import Adam, SGD\n",
    "\n",
    "#X contains image \n",
    "print('Dimensions: %s x %s' % (X.shape[0], X.shape[1]))\n",
    "#print('\\n1st row', X[0])\n",
    "first_image = np.array(X[0], dtype='float')\n",
    "pixels = first_image.reshape((28, 28))\n",
    "plt.imshow(pixels, cmap='gray')\n",
    "plt.show()\n",
    "\n",
    "#y contains labels\n",
    "print(y[0])\n"
   ]
  },
  {
   "cell_type": "code",
   "execution_count": 3,
   "metadata": {},
   "outputs": [],
   "source": [
    "# Split train/validation; \n",
    "randP = np.random.permutation(60000)\n",
    "trainIdx = randP[0:50000]\n",
    "valIdx = randP[50001:]"
   ]
  },
  {
   "cell_type": "code",
   "execution_count": 4,
   "metadata": {},
   "outputs": [],
   "source": [
    "X = X.reshape(60000, 784).astype(np.float32)/255\n",
    "y = y.reshape(60000, 1).astype(np.int)\n",
    "train_x = X[trainIdx,:]\n",
    "train_y = y[trainIdx]\n",
    "val_x = X[valIdx,:]\n",
    "val_y = y[valIdx,:]"
   ]
  },
  {
   "cell_type": "code",
   "execution_count": 5,
   "metadata": {},
   "outputs": [],
   "source": [
    "# converting training images into torch format\n",
    "train_x  = torch.from_numpy(train_x)\n",
    "train_y = torch.from_numpy(train_y)\n",
    "val_x = torch.from_numpy(val_x)\n",
    "val_y = torch.from_numpy(val_y)"
   ]
  },
  {
   "cell_type": "code",
   "execution_count": 6,
   "metadata": {},
   "outputs": [],
   "source": [
    "# if torch.cuda.is_available():\n",
    "#     train_x = train_x.cuda()\n",
    "#     train_y = train_y.cuda()\n",
    "#     val_x = val_x.cuda()\n",
    "#     val_y = val_y.cuda()"
   ]
  },
  {
   "cell_type": "code",
   "execution_count": 7,
   "metadata": {},
   "outputs": [],
   "source": [
    "class Net(Module):   \n",
    "    def __init__(self):\n",
    "        super(Net, self).__init__()\n",
    "\n",
    "        self.linear_layers = Sequential(\n",
    "            Linear(784, 784),\n",
    "            ReLU(),\n",
    "            Linear(784, 10),\n",
    "        )\n",
    "\n",
    "    # Defining the forward pass    \n",
    "    def forward(self, x):\n",
    "        x = self.linear_layers(x)\n",
    "        #x = torch.nn.functional.log_softmax(x, dim=1)\n",
    "        return x"
   ]
  },
  {
   "cell_type": "code",
   "execution_count": 8,
   "metadata": {},
   "outputs": [
    {
     "name": "stdout",
     "output_type": "stream",
     "text": [
      "Net(\n",
      "  (linear_layers): Sequential(\n",
      "    (0): Linear(in_features=784, out_features=784, bias=True)\n",
      "    (1): ReLU()\n",
      "    (2): Linear(in_features=784, out_features=10, bias=True)\n",
      "  )\n",
      ")\n"
     ]
    }
   ],
   "source": [
    "# defining the model\n",
    "model = Net()\n",
    "\n",
    "# defining the optimizer\n",
    "optimizer = Adam(model.parameters(), lr=0.01)\n",
    "\n",
    "# defining the loss function\n",
    "criterion = CrossEntropyLoss()\n",
    "\n",
    "# if torch.cuda.is_available():\n",
    "#     model = model.cuda()\n",
    "#     criterion = criterion.cuda()\n",
    "\n",
    "print(model)"
   ]
  },
  {
   "cell_type": "code",
   "execution_count": 9,
   "metadata": {},
   "outputs": [],
   "source": [
    "def train(epoch):\n",
    "    model.train()\n",
    "    tr_loss = 0\n",
    "    # getting the training set\n",
    "    x_train, y_train = Variable(train_x), Variable(train_y)\n",
    "    x_val, y_val = Variable(val_x), Variable(val_y)\n",
    "\n",
    "    # clearing the Gradients of the model parameters\n",
    "    optimizer.zero_grad()\n",
    "    \n",
    "    # prediction for training and validation set\n",
    "    output_train = model(x_train)\n",
    "    output_val = model(x_val)\n",
    "    \n",
    "    # Set the y dimensions correctly\n",
    "    y_train = y_train.squeeze(1).long()\n",
    "    y_val = y_val.squeeze(1).long()\n",
    "\n",
    "    # computing the training and validation loss\n",
    "    loss_train = criterion(output_train, y_train)\n",
    "    train_losses.append(loss_train)\n",
    "    loss_val = criterion(output_val, y_val)\n",
    "    val_losses.append(loss_val)\n",
    "\n",
    "    # computing the updated weights of all the model parameters\n",
    "    loss_train.backward()\n",
    "    optimizer.step()\n",
    "    tr_loss = loss_train.item()\n",
    "    \n",
    "    if epoch%2 == 0:\n",
    "        # printing the validation loss\n",
    "        print('Epoch : ',epoch+1, '\\t', 'loss :', loss_val)"
   ]
  },
  {
   "cell_type": "code",
   "execution_count": 10,
   "metadata": {},
   "outputs": [
    {
     "name": "stdout",
     "output_type": "stream",
     "text": [
      "Epoch :  1 \t loss : tensor(2.2945, grad_fn=<NllLossBackward>)\n",
      "Epoch :  3 \t loss : tensor(1.5807, grad_fn=<NllLossBackward>)\n",
      "Epoch :  5 \t loss : tensor(0.8543, grad_fn=<NllLossBackward>)\n",
      "Epoch :  7 \t loss : tensor(0.5609, grad_fn=<NllLossBackward>)\n",
      "Epoch :  9 \t loss : tensor(0.4870, grad_fn=<NllLossBackward>)\n",
      "Epoch :  11 \t loss : tensor(0.4124, grad_fn=<NllLossBackward>)\n",
      "Epoch :  13 \t loss : tensor(0.3568, grad_fn=<NllLossBackward>)\n",
      "Epoch :  15 \t loss : tensor(0.3312, grad_fn=<NllLossBackward>)\n",
      "Epoch :  17 \t loss : tensor(0.2897, grad_fn=<NllLossBackward>)\n",
      "Epoch :  19 \t loss : tensor(0.2697, grad_fn=<NllLossBackward>)\n",
      "Epoch :  21 \t loss : tensor(0.2519, grad_fn=<NllLossBackward>)\n",
      "Epoch :  23 \t loss : tensor(0.2249, grad_fn=<NllLossBackward>)\n",
      "Epoch :  25 \t loss : tensor(0.2100, grad_fn=<NllLossBackward>)\n"
     ]
    }
   ],
   "source": [
    "# defining the number of epochs\n",
    "n_epochs = 25\n",
    "\n",
    "# empty list to store training losses\n",
    "train_losses = []\n",
    "val_losses = []\n",
    "\n",
    "# training the model\n",
    "for epoch in range(n_epochs):\n",
    "    train(epoch)"
   ]
  },
  {
   "cell_type": "code",
   "execution_count": 11,
   "metadata": {},
   "outputs": [
    {
     "data": {
      "image/png": "[encoded data removed]",
      "text/plain": [
       "<Figure size 432x288 with 1 Axes>"
      ]
     },
     "metadata": {
      "needs_background": "light"
     },
     "output_type": "display_data"
    }
   ],
   "source": [
    "# plotting the training and validation loss\n",
    "plt.plot(train_losses, label='Training loss')\n",
    "plt.plot(val_losses, label='Validation loss')\n",
    "plt.legend()\n",
    "plt.show()"
   ]
  },
  {
   "cell_type": "code",
   "execution_count": 12,
   "metadata": {},
   "outputs": [
    {
     "name": "stdout",
     "output_type": "stream",
     "text": [
      "(10000, 784)\n"
     ]
    }
   ],
   "source": [
    "from sklearn.metrics import accuracy_score\n",
    "X_test, y_test = loadlocal_mnist(\n",
    "        images_path='t10k-images.idx3-ubyte', \n",
    "        labels_path='t10k-labels.idx1-ubyte')\n",
    "print(X_test.shape)"
   ]
  },
  {
   "cell_type": "code",
   "execution_count": 13,
   "metadata": {},
   "outputs": [],
   "source": [
    "X_test = X_test.reshape(10000, 784).astype(np.float32)/255\n",
    "y_test = y_test.reshape(10000, 1).astype(np.int)\n",
    "test_x  = torch.from_numpy(X_test)\n",
    "test_y = torch.from_numpy(y_test)"
   ]
  },
  {
   "cell_type": "code",
   "execution_count": 14,
   "metadata": {},
   "outputs": [
    {
     "data": {
      "text/plain": [
       "0.9428"
      ]
     },
     "execution_count": 14,
     "metadata": {},
     "output_type": "execute_result"
    }
   ],
   "source": [
    "# if torch.cuda.is_available():\n",
    "#     test_x = test_x.cuda()\n",
    "output = model(test_x)\n",
    "_,predictions = torch.max(output, axis=1)\n",
    "accuracy_score(test_y, predictions.cpu())"
   ]
  },
  {
   "cell_type": "code",
   "execution_count": null,
   "metadata": {},
   "outputs": [],
   "source": []
  }
 ],
 "metadata": {
  "accelerator": "TPU",
  "colab": {
   "name": "Toy Example - Classification of MNIST dataset",
   "provenance": []
  },
  "kernelspec": {
   "display_name": "Python 3",
   "language": "python",
   "name": "python3"
  },
  "language_info": {
   "codemirror_mode": {
    "name": "ipython",
    "version": 3
   },
   "file_extension": ".py",
   "mimetype": "text/x-python",
   "name": "python",
   "nbconvert_exporter": "python",
   "pygments_lexer": "ipython3",
   "version": "3.7.4"
  }
 },
 "nbformat": 4,
 "nbformat_minor": 1
}
